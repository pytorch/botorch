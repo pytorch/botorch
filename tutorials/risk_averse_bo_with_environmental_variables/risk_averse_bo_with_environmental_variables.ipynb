{
  "cells": [
    {
      "cell_type": "markdown",
      "metadata": {
        "code_folding": [],
        "customInput": null,
        "hidden_ranges": [],
        "originalKey": "480abf47-77be-4c72-819e-647600340428",
        "showInput": false
      },
      "source": [
        "# Risk averse Bayesian optimization with environmental variables\n",
        "\n",
        "This notebook considers risk averse Bayesian optimization of objectives $f(x, w)$, where $x$ denotes the design variable and $w$ denotes the environmental variable. \n",
        "The design variable $x$ is fully controlled by the practitioner, however, the environmental variable $w$ is only controllable at the experimentation phase and is determined by the environment once the decision $x$ is implemented, according to some probability distribution.\n",
        "In this setting, with the $W$ denoting the random environmental variable, the objective we want to optimize becomes a random function, written as $f(x, W)$, whose value is determined only once the environmental variable $W$ is realized.\n",
        "This formulation is relevant whenever we need to make a decision to be implemented in an unknown future environment, and we can simulate the environment during the optimization phase.\n",
        "\n",
        "For this problem setting, [1] proposes to optimize a risk measure of the random function, written as $\\rho[f(x, W)]$, where $\\rho$ denotes a risk measure, which is a functional that maps a random variable (in this case $f(x, W)$ induced by $W$) to a real number. \n",
        "They propose the $\\rho$KG acquisition function, which extends the well-known knowledge-gradient acquisition function, and requires access to posterior mean of the objective, i.e., $\\mathbb{E}_n[\\rho[f(x, W)]]$, where the expectation is taken over the sample paths of the GP model.\n",
        "Unlike the posterior mean of the function $f(x, w)$, the posterior mean of the risk measure is not available in closed-form and needs to be estimated via sampling. \n",
        "The procedure for estimating $\\mathbb{E}_n[\\rho[f(x, W)]]$ for a given $x$ is as follows:\n",
        "- Draw a set of `n_w` samples of $W$ according to the probability distribution. Let's call this `w_set`.\n",
        "- Append each $w$ in `w_set` to the given $x$ to get $(x, w)$ pairs. Note that for a single $x$, we now have `n_w` pairs of $(x, w)$.\n",
        "- Draw samples from the joint posterior distribution of these `n_w` pairs of $(x, w)$. Note that the joint distribution here is an `n_w`-dimensional Gaussian distribution.\n",
        "- Calculate the empirical risk measure corresponding to each sample, converting each `n_w`-dimensional posterior sample to a scalar sample of the risk measure.\n",
        "- Take the average of these risk measure samples to get the Monte-Carlo estimate of the posterior mean of the risk measure.\n",
        "\n",
        "Now that the background is established, we are ready to implement a one-shot version of the $\\rho$KG acquisition function proposed in [1], in native BoTorch. We will:\n",
        " - Use `AppendFeatures` input transform to add the set of $W$ samples to each given $x$;\n",
        " - Calculate the joint posterior over these samples;\n",
        " - Use `RiskMeasureMCObjective` to convert these joint samples into samples of the risk measure;\n",
        " - And use the samples of the risk measure in `qMultiFidelityKnowledgeGradient` to define the $\\rho$KG acquisition function.\n",
        "\n",
        "We will use the (negated) Branin function as $f(x, w)$ with the first input dimension denoting $x$ and the second input dimension denoting $w$, and find the $x$ maximizing the CVaR risk measure at risk level $\\alpha=0.7$. We will assume that $W$ has a uniform distribution over $[0, 1]$ and approximate the risk measure using $16$ (qMC) samples of $W$ at a given time.\n",
        "\n",
        "CVaR, the Conditional Value-at-Risk, is a risk measure that measures the expectation of the worst outcomes (small rewards or large losses) with a total probability of $1 - \\alpha$. \n",
        "It is commonly defined as the conditional expectation of the reward function, with the condition that the reward is smaller than the corresponding $1 - \\alpha$ quantile.\n",
        "\n",
        "Note: Risk measures are typically studied in the context of a minimization problem (including in [1]), since it makes more sense to minimize \"risk\", and treat the larger values as being undesirable. Since the default behavior in BoTorch is to maximize the objective, the `RiskMeasureMCObjective` (and its subclasses) is defined w.r.t. the lower tail of the random variable, i.e., by treating the smaller values as undesirable. With this implementation, all that is needed to minimize a risk measure (of the original objective) is to negate the objective, as is done in this notebook.   \n",
        "\n",
        "[1] [S. Cakmak, R. Astudillo, P. Frazier, and E. Zhou. Bayesian Optimization of Risk Measures. Advances in Neural Information Processing Systems 33, 2020.](https://arxiv.org/abs/2007.05554)"
      ]
    },
    {
      "cell_type": "code",
      "execution_count": null,
      "metadata": {},
      "outputs": [],
      "source": [
        "# Install dependencies if we are running in colab\n",
        "import sys\n",
        "if 'google.colab' in sys.modules:\n",
        "    %pip install botorch"
      ]
    },
    {
      "cell_type": "code",
      "execution_count": 1,
      "metadata": {
        "code_folding": [],
        "collapsed": false,
        "executionStartTime": 1648579007383,
        "executionStopTime": 1648579009336,
        "hidden_ranges": [],
        "originalKey": "9c1ca130-1b7d-45c2-a28a-6b4759277c0e",
        "requestMsgId": "9a845d78-cc55-4b30-8eb3-46c393cfe8e7"
      },
      "outputs": [],
      "source": [
        "import os\n",
        "import warnings\n",
        "from time import time\n",
        "\n",
        "import matplotlib.pyplot as plt\n",
        "import torch\n",
        "from botorch import fit_gpytorch_mll\n",
        "from botorch.acquisition import qMultiFidelityKnowledgeGradient, qSimpleRegret\n",
        "from botorch.acquisition.risk_measures import CVaR\n",
        "from botorch.models import SingleTaskGP\n",
        "from botorch.models.transforms.input import AppendFeatures\n",
        "from botorch.optim import optimize_acqf\n",
        "from botorch.utils.sampling import draw_sobol_samples\n",
        "from botorch.utils.transforms import unnormalize\n",
        "from botorch.test_functions import Branin\n",
        "from gpytorch import ExactMarginalLogLikelihood\n",
        "from torch import Tensor\n",
        "\n",
        "%matplotlib inline\n",
        "\n",
        "warnings.filterwarnings(\"ignore\")\n",
        "\n",
        "SMOKE_TEST = os.environ.get(\"SMOKE_TEST\")\n",
        "BATCH_SIZE = 2 if not SMOKE_TEST else 1\n",
        "NUM_RESTARTS = 10 if not SMOKE_TEST else 2\n",
        "RAW_SAMPLES = 128 if not SMOKE_TEST else 4\n",
        "N_W = 16 if not SMOKE_TEST else 2\n",
        "NUM_ITERATIONS = 20 if not SMOKE_TEST else 2\n",
        "NUM_FANTASIES = 16 if not SMOKE_TEST else 2\n",
        "\n",
        "tkwargs = {\"device\": \"cpu\", \"dtype\": torch.double}"
      ]
    },
    {
      "cell_type": "markdown",
      "metadata": {
        "code_folding": [],
        "customInput": null,
        "hidden_ranges": [],
        "originalKey": "103a4fc5-8c7b-4e2f-a954-818a8486e976",
        "showInput": true
      },
      "source": [
        "## Problem setup\n",
        "We will initialize the `Branin` test function and define a wrapper around it to normalize the domain to $[0, 1]^2$."
      ]
    },
    {
      "cell_type": "code",
      "execution_count": 2,
      "metadata": {
        "code_folding": [],
        "collapsed": false,
        "customInput": null,
        "executionStartTime": 1648579009383,
        "executionStopTime": 1648579009522,
        "hidden_ranges": [],
        "originalKey": "d375377b-f596-48c3-869f-2bf7474d3e00",
        "requestMsgId": "9d78eb42-21a4-4553-9be3-8741c08500d2",
        "showInput": true
      },
      "outputs": [],
      "source": [
        "test_function = Branin(negate=True)\n",
        "dim = test_function.dim\n",
        "\n",
        "\n",
        "def evaluate_function(X: Tensor) -> Tensor:\n",
        "    return test_function(unnormalize(X, test_function.bounds)).view(*X.shape[:-1], 1)"
      ]
    },
    {
      "cell_type": "markdown",
      "metadata": {
        "code_folding": [],
        "customInput": null,
        "hidden_ranges": [],
        "originalKey": "3742d3d6-f77a-4013-9823-f797480c5d44",
        "showInput": true
      },
      "source": [
        "### Model initialization\n",
        "We will initialize the `SingleTaskGP` model on $8$ Sobol points drawn from the $(x, w)$ space. \n",
        "In doing so, we will also pass in the `AppendFeatures`. We will re-initialize `AppendFeatures` with a new `w_set` at every model training to ensure adequate coverage of the $W$ space."
      ]
    },
    {
      "cell_type": "code",
      "execution_count": 3,
      "metadata": {
        "code_folding": [],
        "collapsed": false,
        "customInput": null,
        "executionStartTime": 1648579009594,
        "executionStopTime": 1648579010111,
        "hidden_ranges": [],
        "originalKey": "ba374159-5e99-4eb2-8cd2-25d34909236e",
        "requestMsgId": "3454b737-0190-44ca-8908-b96e37c03cd7",
        "showInput": true
      },
      "outputs": [],
      "source": [
        "bounds = torch.stack([torch.zeros(dim), torch.ones(dim)]).to(**tkwargs)\n",
        "train_X = draw_sobol_samples(bounds=bounds, n=8, q=1).squeeze(-2).to(**tkwargs)\n",
        "train_Y = evaluate_function(train_X)\n",
        "\n",
        "\n",
        "def train_model(train_X: Tensor, train_Y: Tensor) -> SingleTaskGP:\n",
        "    r\"\"\"Returns a `SingleTaskGP` model trained on the inputs\"\"\"\n",
        "    w_set = (\n",
        "        draw_sobol_samples(n=N_W, q=1, bounds=bounds[:, -1:]).squeeze(-2).to(**tkwargs)\n",
        "    )\n",
        "    model = SingleTaskGP(\n",
        "        train_X,\n",
        "        train_Y,\n",
        "        input_transform=AppendFeatures(feature_set=w_set),\n",
        "    )\n",
        "    mll = ExactMarginalLogLikelihood(model.likelihood, model)\n",
        "    fit_gpytorch_mll(mll)\n",
        "    return model\n",
        "\n",
        "\n",
        "model = train_model(train_X, train_Y)"
      ]
    },
    {
      "cell_type": "markdown",
      "metadata": {
        "code_folding": [],
        "customInput": null,
        "hidden_ranges": [],
        "originalKey": "ffd3d6f1-32ed-496a-934b-e24868f41eae",
        "showInput": true
      },
      "source": [
        "### Define a helper function that performs the BO step\n",
        "The helper function will initialize the `qMultiFidelityKnowledgeGradient` acquisition function with the risk measure objective, and optimize it to find the candidate to evaluate.\n",
        "We use `qMultiFidelityKnowledgeGradient` instead of `qKnowledgeGraient` since it accepts a `project` callable, which we will use to ignore the $w$ present in the fantasy solutions before adding the `w_set` via the `AppendFeatures` input transform. "
      ]
    },
    {
      "cell_type": "code",
      "execution_count": 4,
      "metadata": {
        "code_folding": [],
        "collapsed": false,
        "customInput": null,
        "executionStartTime": 1648579010160,
        "executionStopTime": 1648579010307,
        "hidden_ranges": [],
        "originalKey": "ba856f61-ae91-4576-8f86-d9823a24621e",
        "requestMsgId": "199fbf67-4eac-4d7b-9c06-f22c31474f30",
        "showInput": true
      },
      "outputs": [],
      "source": [
        "risk_measure = CVaR(alpha=0.7, n_w=N_W)\n",
        "\n",
        "\n",
        "def ignore_w(X: Tensor) -> Tensor:\n",
        "    r\"\"\"Remove `w` from the input.\"\"\"\n",
        "    return X[..., :-1]\n",
        "\n",
        "\n",
        "def optimize_rho_kg_and_get_observation():\n",
        "    r\"\"\"Optimizes the rhoKG acquisition function, and returns a new candidate and observation.\"\"\"\n",
        "    acqf = qMultiFidelityKnowledgeGradient(\n",
        "        model=model,\n",
        "        num_fantasies=NUM_FANTASIES,\n",
        "        objective=risk_measure,\n",
        "        project=ignore_w,\n",
        "    )\n",
        "\n",
        "    candidate, _ = optimize_acqf(\n",
        "        acq_function=acqf,\n",
        "        bounds=bounds,\n",
        "        q=BATCH_SIZE,\n",
        "        num_restarts=NUM_RESTARTS,\n",
        "        raw_samples=RAW_SAMPLES,\n",
        "    )\n",
        "\n",
        "    new_observations = evaluate_function(candidate)\n",
        "    return candidate, new_observations"
      ]
    },
    {
      "cell_type": "markdown",
      "metadata": {
        "code_folding": [],
        "customInput": null,
        "hidden_ranges": [],
        "originalKey": "47a684ed-2145-4068-a22e-641b265a01eb",
        "showInput": true
      },
      "source": [
        "## Perform the Bayesian optimization loop with $\\rho$KG\n",
        "The BO loop iterates the following steps:\n",
        "- Given the surrogate model, maximize the acquisition function to find the candidate(s) $(x, w)$ to evaluate;\n",
        "- Observe $f(x, w)$ for each candidate;\n",
        "- Update the surrogate model with the new observation.\n",
        "\n",
        "Note: Running this may take a while."
      ]
    },
    {
      "cell_type": "code",
      "execution_count": 5,
      "metadata": {
        "code_folding": [],
        "collapsed": false,
        "customInput": null,
        "executionStartTime": 1648579010377,
        "executionStopTime": 1648579199976,
        "hidden_ranges": [],
        "originalKey": "99cc78f3-d6a7-405f-ad9d-fb244e7f3d25",
        "requestMsgId": "d85f4fc2-1482-477a-b529-f21cc70292a9",
        "showInput": true
      },
      "outputs": [
        {
          "name": "stdout",
          "output_type": "stream",
          "text": [
            "Starting iteration 0, total time: 0.000 seconds.\n"
          ]
        },
        {
          "name": "stdout",
          "output_type": "stream",
          "text": [
            "Starting iteration 1, total time: 7.142 seconds.\n"
          ]
        },
        {
          "name": "stdout",
          "output_type": "stream",
          "text": [
            "Starting iteration 2, total time: 18.505 seconds.\n"
          ]
        },
        {
          "name": "stdout",
          "output_type": "stream",
          "text": [
            "Starting iteration 3, total time: 29.673 seconds.\n"
          ]
        },
        {
          "name": "stdout",
          "output_type": "stream",
          "text": [
            "Starting iteration 4, total time: 50.260 seconds.\n"
          ]
        },
        {
          "name": "stdout",
          "output_type": "stream",
          "text": [
            "Starting iteration 5, total time: 61.387 seconds.\n"
          ]
        },
        {
          "name": "stdout",
          "output_type": "stream",
          "text": [
            "Starting iteration 6, total time: 82.665 seconds.\n"
          ]
        },
        {
          "name": "stdout",
          "output_type": "stream",
          "text": [
            "Starting iteration 7, total time: 105.007 seconds.\n"
          ]
        },
        {
          "name": "stdout",
          "output_type": "stream",
          "text": [
            "Starting iteration 8, total time: 115.363 seconds.\n"
          ]
        },
        {
          "name": "stdout",
          "output_type": "stream",
          "text": [
            "Starting iteration 9, total time: 124.725 seconds.\n"
          ]
        },
        {
          "name": "stdout",
          "output_type": "stream",
          "text": [
            "Starting iteration 10, total time: 131.432 seconds.\n"
          ]
        },
        {
          "name": "stdout",
          "output_type": "stream",
          "text": [
            "Starting iteration 11, total time: 139.990 seconds.\n"
          ]
        },
        {
          "name": "stdout",
          "output_type": "stream",
          "text": [
            "Starting iteration 12, total time: 147.682 seconds.\n"
          ]
        },
        {
          "name": "stdout",
          "output_type": "stream",
          "text": [
            "Starting iteration 13, total time: 150.100 seconds.\n"
          ]
        },
        {
          "name": "stdout",
          "output_type": "stream",
          "text": [
            "Starting iteration 14, total time: 167.178 seconds.\n"
          ]
        },
        {
          "name": "stdout",
          "output_type": "stream",
          "text": [
            "Starting iteration 15, total time: 171.254 seconds.\n"
          ]
        },
        {
          "name": "stdout",
          "output_type": "stream",
          "text": [
            "Starting iteration 16, total time: 173.408 seconds.\n"
          ]
        },
        {
          "name": "stdout",
          "output_type": "stream",
          "text": [
            "Starting iteration 17, total time: 176.923 seconds.\n"
          ]
        },
        {
          "name": "stdout",
          "output_type": "stream",
          "text": [
            "Starting iteration 18, total time: 180.522 seconds.\n"
          ]
        },
        {
          "name": "stdout",
          "output_type": "stream",
          "text": [
            "Starting iteration 19, total time: 183.080 seconds.\n"
          ]
        }
      ],
      "source": [
        "start_time = time()\n",
        "\n",
        "for i in range(NUM_ITERATIONS):\n",
        "    print(f\"Starting iteration {i}, total time: {time() - start_time:.3f} seconds.\")\n",
        "    # optimize the acquisition function and get the observations\n",
        "    candidate, observations = optimize_rho_kg_and_get_observation()\n",
        "\n",
        "    # update the model with new observations\n",
        "    train_X = torch.cat([train_X, candidate], dim=0)\n",
        "    train_Y = torch.cat([train_Y, observations], dim=0)\n",
        "    model = train_model(train_X, train_Y)"
      ]
    },
    {
      "cell_type": "markdown",
      "metadata": {
        "code_folding": [],
        "customInput": null,
        "hidden_ranges": [],
        "originalKey": "a3c58456-524d-4cfd-8619-3dab53e7d8ac",
        "showInput": true
      },
      "source": [
        "### Find the solution to implement\n",
        "We will choose the solution to implement as the point maximizing the posterior expectation of the risk measure. Since this expectation is not available in closed form, we will maximize its qMC estimate as a surrogate. We will use a larger `w_set` here to get a more precise estimate."
      ]
    },
    {
      "cell_type": "code",
      "execution_count": 6,
      "metadata": {
        "code_folding": [],
        "collapsed": false,
        "customInput": null,
        "executionStartTime": 1648579199994,
        "executionStopTime": 1648579201028,
        "hidden_ranges": [],
        "originalKey": "f6d16156-0631-43f2-9766-9f7e3db9a142",
        "requestMsgId": "fb2c0d5d-d81f-46b3-8d26-99ac0cc1f98b",
        "showInput": true
      },
      "outputs": [],
      "source": [
        "# update the input transform of the already trained model\n",
        "w_set = draw_sobol_samples(n=128, q=1, bounds=bounds[:, -1:]).squeeze(-2).to(**tkwargs)\n",
        "new_transform = AppendFeatures(feature_set=w_set).eval()\n",
        "model.input_transform = new_transform\n",
        "\n",
        "risk_measure = CVaR(alpha=0.7, n_w=128)\n",
        "expected_risk_measure = qSimpleRegret(model=model, objective=risk_measure)\n",
        "\n",
        "final_candidate, expected_objective = optimize_acqf(\n",
        "    acq_function=expected_risk_measure,\n",
        "    bounds=bounds[:, :1],\n",
        "    q=1,\n",
        "    num_restarts=NUM_RESTARTS,\n",
        "    raw_samples=RAW_SAMPLES,\n",
        ")"
      ]
    },
    {
      "cell_type": "markdown",
      "metadata": {
        "code_folding": [],
        "customInput": null,
        "hidden_ranges": [],
        "originalKey": "649ac54a-bfe6-48f8-b33b-1dcad0609a26",
        "showInput": true
      },
      "source": [
        "### Let's plot the true risk measure and see how we did\n",
        "We can use the input transform and the risk measure we previously defined to make this part easier!\n",
        "\n",
        "The plot shows that we found the global optimal solution and that our estimate of the risk measure at the optimal point is quite accurate. "
      ]
    },
    {
      "cell_type": "code",
      "execution_count": 7,
      "metadata": {
        "code_folding": [],
        "collapsed": false,
        "customInput": null,
        "executionStartTime": 1648579201051,
        "executionStopTime": 1648579201691,
        "hidden_ranges": [],
        "originalKey": "faf23624-8625-428b-99d4-fb0213679beb",
        "requestMsgId": "cbcfb84b-f2a0-4fd2-a935-21d52cc0799a",
        "showInput": true
      },
      "outputs": [
        {
          "data": {
            "image/png": "[encoded data removed]",
            "text/plain": [
              "<Figure size 864x576 with 1 Axes>"
            ]
          },
          "metadata": {
            "bento_obj_id": "140404141818208",
            "needs_background": "light"
          },
          "output_type": "display_data"
        }
      ],
      "source": [
        "plot_x = torch.linspace(0, 1, 100, **tkwargs).view(-1, 1)\n",
        "eval_X = new_transform(plot_x)\n",
        "eval_Y = evaluate_function(eval_X)\n",
        "plot_risk_measure = risk_measure(eval_Y)\n",
        "\n",
        "plt.figure(figsize=(12, 8))\n",
        "plt.title(\"True Risk Measure Objective and Solution Found\")\n",
        "plt.plot(plot_x, plot_risk_measure)\n",
        "plt.scatter(final_candidate, expected_objective, marker=\"*\", color=\"red\", s=500)\n",
        "plt.xlabel(\"x\")\n",
        "plt.ylabel(\"$\\\\rho[f(x, w)]$\")\n",
        "plt.show()"
      ]
    }
  ],
  "metadata": {
    "kernelspec": {
      "display_name": "python3",
      "language": "python",
      "name": "python3"
    }
  },
  "nbformat": 4,
  "nbformat_minor": 2
}
