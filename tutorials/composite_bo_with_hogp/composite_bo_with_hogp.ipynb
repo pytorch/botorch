{
  "cells": [
    {
      "cell_type": "markdown",
      "metadata": {
        "originalKey": "8335acc8-138f-4d2d-b65e-73b26f81f37b",
        "showInput": false
      },
      "source": [
        "## Composite Bayesian Optimization with the High Order Gaussian Process"
      ]
    },
    {
      "cell_type": "markdown",
      "metadata": {
        "originalKey": "0456cc35-2d2b-4861-a97e-220b06664757",
        "showInput": false
      },
      "source": [
        "In this tutorial, we're going to explore composite Bayesian optimization [Astudillo & Frazier, ICML, '19](https://proceedings.mlr.press/v97/astudillo19a.html) with the High Order Gaussian Process (HOGP) model of [Zhe et al, AISTATS, '19](http://proceedings.mlr.press/v89/zhe19a.html). The setup for composite Bayesian optimization is that we have an unknown (black box) function mapping input parameters to several outputs, and a second, known function describing the quality of the functional output. We wish to find input parameters that maximize the output metric function. We wish to find input parameters that maximize the output metric function in a black-box manner. \n",
        "\n",
        "Specifically, this can be described as $\\max_{x \\in \\mathcal{X}} g(f(x)),$ where $f$ is unknown and $g$ is known. As in traditional Bayesian optimization, we are going to construct a Gaussian process surrogate model over the expensive to evaluate function $f(.),$ and will use a HOGP to model this function. "
      ]
    },
    {
      "cell_type": "markdown",
      "metadata": {
        "originalKey": "e9d6372a-3961-453d-a2fc-6ed7b649c76c",
        "showInput": false
      },
      "source": [
        "### HOGP model description\n",
        "\n",
        "The [High Order Gaussian Process (HOGP) model](https://proceedings.mlr.press/v89/zhe19a.html) is a Gaussian process model designed specifically to operate over tensors or multi-dimensional arrays and exploits structure in the tensor to be able to operate efficiently. Specifically, the HOGP takes as inputs $y \\in \\mathbb{R}^{N \\times d_2 \\times \\cdots \\times d_M}$ and assumes that $\\text{vec}(y) \\sim \\mathcal{N}(0, \\otimes_{i=1}^M K_i + \\sigma^2 I),$ where $K_1 = K_{XX}.$ Each dimension of the tensor has its own kernel function, $K_i,$ as well as a set of $d_i$ latent parameters that can be optimized over.\n",
        "\n",
        "Recently, [Maddox et al, '21](https://arxiv.org/abs/2106.12997) proposed a method for computing posterior samples from the HOGP by exploiting structure in the posterior distribution, thereby enabling its usage in BO settings. While they show that this approach allows to use composite BO on problems with tens or thousands of outputs, for scalability we consider a much smaller example here (that does not require GPU acceleration)."
      ]
    },
    {
      "cell_type": "code",
      "execution_count": null,
      "metadata": {},
      "outputs": [],
      "source": [
        "# Install dependencies if we are running in colab\n",
        "import sys\n",
        "if 'google.colab' in sys.modules:\n",
        "    %pip install botorch"
      ]
    },
    {
      "cell_type": "code",
      "execution_count": 1,
      "metadata": {
        "code_folding": [],
        "collapsed": false,
        "customOutput": null,
        "executionStartTime": 1677179090663,
        "executionStopTime": 1677179090688,
        "hidden_ranges": [],
        "originalKey": "20d1001e-522e-48af-8998-4822f573fffc",
        "requestMsgId": "5ce0b166-4ebe-4114-a365-22c94e141254"
      },
      "outputs": [
        {
          "name": "stderr",
          "output_type": "stream",
          "text": [
            "I0215 081151.431 _utils_internal.py:247] NCCL_DEBUG env var is set to None\n",
            "I0215 081151.436 _utils_internal.py:265] NCCL_DEBUG is forced to WARN from None\n"
          ]
        }
      ],
      "source": [
        "import math\n",
        "import os\n",
        "import time\n",
        "from functools import partial\n",
        "\n",
        "import gpytorch.settings as gpt_settings\n",
        "import matplotlib.pyplot as plt\n",
        "import torch\n",
        "from botorch.acquisition import qExpectedImprovement\n",
        "from botorch.acquisition.objective import GenericMCObjective\n",
        "from botorch.models import HigherOrderGP, SingleTaskGP\n",
        "from botorch.models.higher_order_gp import FlattenedStandardize\n",
        "from botorch.models.transforms import Normalize\n",
        "from botorch.optim import optimize_acqf\n",
        "from botorch.optim.fit import fit_gpytorch_mll_torch\n",
        "from botorch.sampling.normal import IIDNormalSampler\n",
        "from gpytorch.mlls import ExactMarginalLogLikelihood\n",
        "from linear_operator.settings import _fast_solves\n",
        "from torch.optim import Adam\n",
        "\n",
        "%matplotlib inline\n",
        "\n",
        "SMOKE_TEST = os.environ.get(\"SMOKE_TEST\")"
      ]
    },
    {
      "cell_type": "markdown",
      "metadata": {
        "originalKey": "c90bc749-758f-49cd-bfb3-970a921c66da",
        "showInput": false
      },
      "source": [
        "#### Set Device and dtype"
      ]
    },
    {
      "cell_type": "code",
      "execution_count": 2,
      "metadata": {
        "code_folding": [],
        "collapsed": false,
        "customOutput": null,
        "executionStartTime": 1677179090741,
        "executionStopTime": 1677179090768,
        "hidden_ranges": [],
        "originalKey": "70a937d9-4f9a-4403-9b38-ecbb78afc8b3",
        "output": {
          "id": 1095338551592181,
          "loadingStatus": "loaded"
        },
        "requestMsgId": "d9112d83-9dac-43c6-9150-c383a077d0eb"
      },
      "outputs": [
        {
          "name": "stdout",
          "output_type": "stream",
          "text": [
            "Using  cpu\n"
          ]
        }
      ],
      "source": [
        "torch.manual_seed(0)\n",
        "device = (\n",
        "    torch.device(\"cpu\") if not torch.cuda.is_available() else torch.device(\"cuda\")\n",
        ")\n",
        "dtype = torch.float\n",
        "\n",
        "print(\"Using \", device)"
      ]
    },
    {
      "cell_type": "code",
      "execution_count": 3,
      "metadata": {
        "collapsed": false,
        "customOutput": null,
        "executionStartTime": 1677179090831,
        "executionStopTime": 1677179090871,
        "originalKey": "6c944fa0-b00c-47e5-8634-33de1718e10c",
        "requestMsgId": "3adfd02b-311c-4f6d-b45f-4909c8051ca5"
      },
      "outputs": [],
      "source": [
        "models_used = (\n",
        "    \"rnd\",\n",
        "    \"ei\",\n",
        "    \"ei_hogp_cf\",\n",
        ")"
      ]
    },
    {
      "cell_type": "markdown",
      "metadata": {
        "originalKey": "720c695f-d688-4b80-a2b1-f15db6e3c42a",
        "showInput": false
      },
      "source": [
        "### Problem Description"
      ]
    },
    {
      "cell_type": "markdown",
      "metadata": {
        "originalKey": "24c31ede-5f02-4b48-8513-10572e33ae78",
        "showInput": false
      },
      "source": [
        "We use a simple test problem describing the concentration of pollutants after a chemical spill from [Astudillo & Frazier, ICML, '19](https://proceedings.mlr.press/v97/astudillo19a.html) defined over a $3 \\times 4$ grid of values $s,t$ and we wish to optimize the parameters w.r.t. their true values, to estimate the true value of parameters, $x = [M, D, L, \\tau].$ The function is given by \n",
        "$$ f(s,t | M, D, L, \\tau) := \\frac{M}{\\sqrt{4 \\pi D t}}  \\exp\\{-\\frac{s^2}{4Dt}\\} + \\frac{1_{t > \\tau} M}{\\sqrt{4 \\pi D(t - \\tau)}} \\exp\\{- \\frac{(s - L)^2}{4 D (t - \\tau)}\\}, $$\n",
        "with the cheap to evaluate, differentiable function given by $g(y):= \\sum_{(s,t) \\in S \\times T} \\left(c(s, t|x_{\\text{true}}) - y\\right)^2.$ As the objective function itself is going to be implemented in Pytorch, we will be able to differentiate through it, enabling the usage of gradient-based optimization to optimize the objectives with respect to the inputs."
      ]
    },
    {
      "cell_type": "code",
      "execution_count": 4,
      "metadata": {
        "collapsed": false,
        "customOutput": null,
        "executionStartTime": 1677179090923,
        "executionStopTime": 1677179090952,
        "originalKey": "b583c681-6d77-478c-8dbc-eb9882b85a60",
        "requestMsgId": "55885ad5-6197-47b4-8e07-ba464e79f0e0"
      },
      "outputs": [],
      "source": [
        "def env_cfun(s, t, M, D, L, tau):\n",
        "    c1 = M / torch.sqrt(4 * math.pi * D * t)\n",
        "    exp1 = torch.exp(-(s**2) / 4 / D / t)\n",
        "    term1 = c1 * exp1\n",
        "    c2 = M / torch.sqrt(4 * math.pi * D * (t - tau))\n",
        "    exp2 = torch.exp(-((s - L) ** 2) / 4 / D / (t - tau))\n",
        "    term2 = c2 * exp2\n",
        "    term2[torch.isnan(term2)] = 0.0\n",
        "    return term1 + term2"
      ]
    },
    {
      "cell_type": "markdown",
      "metadata": {
        "originalKey": "cd0586f4-a16a-4a4a-b82a-37d23b441c6d",
        "showInput": false
      },
      "source": [
        "#### Helper Functions"
      ]
    },
    {
      "cell_type": "markdown",
      "metadata": {
        "originalKey": "412c92c8-ddf6-4adb-b2e3-86196fea6898",
        "showInput": false
      },
      "source": [
        "These are helper functions for us to maximize the acquisition function and to get random points."
      ]
    },
    {
      "cell_type": "code",
      "execution_count": 5,
      "metadata": {
        "collapsed": false,
        "customOutput": null,
        "executionStartTime": 1677179091007,
        "executionStopTime": 1677179091039,
        "originalKey": "094f8380-7f4f-48f7-9979-948275a35259",
        "requestMsgId": "c7427d19-8e33-4162-99dc-bda85afc6e37"
      },
      "outputs": [],
      "source": [
        "def gen_rand_points(bounds, num_samples):\n",
        "    points_nlzd = torch.rand(num_samples, bounds.shape[-1]).to(bounds)\n",
        "    return bounds[0] + (bounds[1] - bounds[0]) * points_nlzd\n",
        "\n",
        "\n",
        "def optimize_ei(qEI, bounds, **options):\n",
        "    cands_nlzd, _ = optimize_acqf(qEI, bounds, **options)\n",
        "    return cands_nlzd"
      ]
    },
    {
      "cell_type": "markdown",
      "metadata": {
        "originalKey": "f0def79f-54e0-4141-801b-2aaa65cb48e3",
        "showInput": false
      },
      "source": [
        "Below is a wrapped function to help us define bounds on the parameter space, we can also vary the size of the grid if we'd like to."
      ]
    },
    {
      "cell_type": "code",
      "execution_count": 6,
      "metadata": {
        "collapsed": false,
        "customOutput": null,
        "executionStartTime": 1677179091093,
        "executionStopTime": 1677179091118,
        "originalKey": "637c4435-2df3-49b4-a732-26a24a651610",
        "requestMsgId": "4a2cc65a-e1a2-4ddd-ab9e-b038c7052917"
      },
      "outputs": [],
      "source": [
        "def prepare_data(s_size=3, t_size=4, device=device, dtype=dtype):\n",
        "    print(\"---- Running the environmental problem with \", s_size, t_size, \" ----\")\n",
        "    # X = [M, D, L, tau]\n",
        "    bounds = torch.tensor(\n",
        "        [[7.0, 0.02, 0.01, 30.010], [13.0, 0.12, 3.00, 30.295]],\n",
        "        device=device,\n",
        "        dtype=dtype,\n",
        "    )\n",
        "\n",
        "    M0 = torch.tensor(10.0, device=device, dtype=dtype)\n",
        "    D0 = torch.tensor(0.07, device=device, dtype=dtype)\n",
        "    L0 = torch.tensor(1.505, device=device, dtype=dtype)\n",
        "    tau0 = torch.tensor(30.1525, device=device, dtype=dtype)\n",
        "\n",
        "    # we can vectorize everything, no need for loops\n",
        "    if s_size == 3:\n",
        "        S = torch.tensor([0.0, 1.0, 2.5], device=device, dtype=dtype)\n",
        "    else:\n",
        "        S = torch.linspace(0.0, 2.5, s_size, device=device, dtype=dtype)\n",
        "    if t_size == 4:\n",
        "        T = torch.tensor([15.0, 30.0, 45.0, 60.0], device=device, dtype=dtype)\n",
        "    else:\n",
        "        T = torch.linspace(15.0, 60.0, t_size, device=device, dtype=dtype)\n",
        "\n",
        "    Sgrid, Tgrid = torch.meshgrid(S, T)\n",
        "\n",
        "    # X = [M, D, L, tau]\n",
        "    def c_batched(X, k=None):\n",
        "        return torch.stack([env_cfun(Sgrid, Tgrid, *x) for x in X])\n",
        "\n",
        "    c_true = env_cfun(Sgrid, Tgrid, M0, D0, L0, tau0)\n",
        "\n",
        "    def neq_sum_quared_diff(samples, X=None):\n",
        "        # unsqueeze\n",
        "        if samples.shape[-1] == (s_size * t_size):\n",
        "            samples = samples.unsqueeze(-1).reshape(*samples.shape[:-1], s_size, t_size)\n",
        "\n",
        "        sq_diffs = (samples - c_true).pow(2)\n",
        "        return sq_diffs.sum(dim=(-1, -2)).mul(-1.0)\n",
        "\n",
        "    objective = GenericMCObjective(neq_sum_quared_diff)\n",
        "    num_samples = 32\n",
        "\n",
        "    return c_batched, objective, bounds, num_samples"
      ]
    },
    {
      "cell_type": "markdown",
      "metadata": {
        "originalKey": "e0284996-a67c-471c-a0bc-3472e6ac8459",
        "showInput": false
      },
      "source": [
        "In the above, we construct a `GenericMCObjective` instance to codify the objective function (which is minimizing the MSE of the output tensors and the outputs corresponding to the \"true\" parameter values). Note that the objective function is encoded in PyTorch and is differentiable (although it technically doesn't have to be). Ultimately, we backpropagate through the objective with respect to the input parameters (and through the HOGP as well)."
      ]
    },
    {
      "cell_type": "markdown",
      "metadata": {
        "originalKey": "1471cbeb-efdd-409b-9be0-1e360fef4787",
        "showInput": false
      },
      "source": [
        "## BO Loop"
      ]
    },
    {
      "cell_type": "markdown",
      "metadata": {
        "originalKey": "3be94f6f-32a8-4caa-ae48-93580c14584e",
        "showInput": false
      },
      "source": [
        "Finally, we run the BO loop for 10 iterations, generating 3 candidates in each iteration. This loop might take a while.\n",
        "\n",
        "We will be comparing to both random selection and batch expected improvement on the aggregated metric."
      ]
    },
    {
      "cell_type": "code",
      "execution_count": 7,
      "metadata": {
        "collapsed": false,
        "customOutput": null,
        "executionStartTime": 1677179091164,
        "executionStopTime": 1677179091199,
        "originalKey": "40ee89df-eff3-4e04-af14-e3d506216ed7",
        "requestMsgId": "8d5ff502-7e12-4dfd-a9cb-e6d4ba4d5b48"
      },
      "outputs": [],
      "source": [
        "n_init = 20\n",
        "\n",
        "if SMOKE_TEST:\n",
        "    n_batches = 1\n",
        "    batch_size = 2\n",
        "else:\n",
        "    n_batches = 10\n",
        "    batch_size = 3"
      ]
    },
    {
      "cell_type": "markdown",
      "metadata": {
        "originalKey": "ac61b7da-7376-41fe-aa89-b1fed1b1c1ee",
        "showInput": false
      },
      "source": [
        "As a word of caution, we've found that when fitting the HOGP model, using first-order optimizers (e.g. Adam) as is used in `fit_gpytorch_torch` tends to outperform second-order optimizers such as L-BFGS-B due to the large number of free parameters in the HOGP. L-BFGS-B tends to overfit in practice here."
      ]
    },
    {
      "cell_type": "code",
      "execution_count": 8,
      "metadata": {
        "code_folding": [],
        "collapsed": false,
        "customOutput": null,
        "executionStartTime": 1677179091279,
        "executionStopTime": 1677179582488,
        "hidden_ranges": [],
        "originalKey": "fe12e9f1-f21a-48dd-8cc6-ba095a75ce80",
        "output": {
          "id": 1423656321879857,
          "loadingStatus": "loaded"
        },
        "requestMsgId": "288b42d0-90e2-474a-9dff-79c17999cf8c"
      },
      "outputs": [
        {
          "name": "stdout",
          "output_type": "stream",
          "text": [
            "Wall time: 12.043408\n",
            "rnd: -0.071It 10/10, best obs.: , ei: -0.089It 10/10, best obs.: , ei_hogp_cf: -0.000\n",
            "Wall time: 12.193747\n"
          ]
        },
        {
          "name": "stderr",
          "output_type": "stream",
          "text": [
            "[W 240215 08:15:58 initializers:432] Unable to find non-zero acquisition function values - initial conditions are being selected randomly.\n"
          ]
        }
      ],
      "source": [
        "with gpt_settings.cholesky_jitter(1e-4):\n",
        "    c_batched, objective, bounds, num_samples = prepare_data(device=device, dtype=dtype)\n",
        "\n",
        "    train_X_init = gen_rand_points(bounds, n_init)\n",
        "    train_Y_init = c_batched(train_X_init)\n",
        "\n",
        "    # these will keep track of the points explored\n",
        "    train_X = {k: train_X_init.clone() for k in models_used}\n",
        "    train_Y = {k: train_Y_init.clone() for k in train_X}\n",
        "\n",
        "    # run the BO loop\n",
        "    for i in range(n_batches):\n",
        "        tic = time.monotonic()\n",
        "\n",
        "        # get best observations, log status\n",
        "        best_f = {k: objective(v).max().detach() for k, v in train_Y.items()}\n",
        "\n",
        "        print(\n",
        "            f\"It {i+1:>2}/{n_batches}, best obs.: \"\n",
        "            \", \".join([f\"{k}: {v:.3f}\" for k, v in best_f.items()])\n",
        "        )\n",
        "\n",
        "        # generate random candidates\n",
        "        cands = {}\n",
        "        cands[\"rnd\"] = gen_rand_points(bounds, batch_size)\n",
        "\n",
        "        optimize_acqf_kwargs = {\n",
        "            \"q\": batch_size,\n",
        "            \"num_restarts\": 10,\n",
        "            \"raw_samples\": 512,\n",
        "        }\n",
        "        sampler = IIDNormalSampler(sample_shape=torch.Size([128]))\n",
        "\n",
        "        train_Y_ei = objective(train_Y[\"ei\"]).unsqueeze(-1)\n",
        "        model_ei = SingleTaskGP(\n",
        "            train_X[\"ei\"],\n",
        "            train_Y_ei,\n",
        "            input_transform=Normalize(train_X[\"ei\"].shape[-1]),\n",
        "        )\n",
        "\n",
        "        mll = ExactMarginalLogLikelihood(model_ei.likelihood, model_ei)\n",
        "        fit_gpytorch_mll_torch(mll, step_limit=1000, optimizer=partial(Adam, lr=0.01))\n",
        "\n",
        "        # generate qEI candidate (single output modeling)\n",
        "        qEI = qExpectedImprovement(model_ei, best_f=best_f[\"ei\"], sampler=sampler)\n",
        "        cands[\"ei\"] = optimize_ei(qEI, bounds, **optimize_acqf_kwargs)\n",
        "\n",
        "        model_ei_hogp_cf = HigherOrderGP(\n",
        "            train_X[\"ei_hogp_cf\"],\n",
        "            train_Y[\"ei_hogp_cf\"],\n",
        "            outcome_transform=FlattenedStandardize(train_Y[\"ei_hogp_cf\"].shape[1:]),\n",
        "            input_transform=Normalize(train_X[\"ei_hogp_cf\"].shape[-1]),\n",
        "            latent_init=\"gp\",\n",
        "        )\n",
        "\n",
        "        mll = ExactMarginalLogLikelihood(model_ei_hogp_cf.likelihood, model_ei_hogp_cf)\n",
        "        with _fast_solves(True):\n",
        "            fit_gpytorch_mll_torch(\n",
        "                mll, step_limit=1000, optimizer=partial(Adam, lr=0.01)\n",
        "            )\n",
        "\n",
        "        # generate qEI candidate (multi-output modeling)\n",
        "        qEI_hogp_cf = qExpectedImprovement(\n",
        "            model_ei_hogp_cf,\n",
        "            best_f=best_f[\"ei_hogp_cf\"],\n",
        "            sampler=sampler,\n",
        "            objective=objective,\n",
        "        )\n",
        "        cands[\"ei_hogp_cf\"] = optimize_ei(qEI_hogp_cf, bounds, **optimize_acqf_kwargs)\n",
        "\n",
        "        # make observations and update data\n",
        "        for k, Xold in train_X.items():\n",
        "            Xnew = cands[k]\n",
        "            if Xnew.shape[0] > 0:\n",
        "                train_X[k] = torch.cat([Xold, Xnew])\n",
        "                train_Y[k] = torch.cat([train_Y[k], c_batched(Xnew)])\n",
        "\n",
        "        print(f\"Wall time: {time.monotonic() - tic:1f}\")\n",
        "\n",
        "    objective_dict = {k: objective(train_Y[k]) for k in train_Y}"
      ]
    },
    {
      "cell_type": "code",
      "execution_count": 9,
      "metadata": {
        "code_folding": [],
        "collapsed": false,
        "customOutput": null,
        "executionStartTime": 1677179582537,
        "executionStopTime": 1677179582560,
        "hidden_ranges": [],
        "originalKey": "deecf18c-3135-452e-947a-8eb1b627e666",
        "requestMsgId": "b1901751-8058-428c-8949-c2dfb0a3a46d"
      },
      "outputs": [],
      "source": [
        "methods_dict = {k: objective_dict[k].cpu().cummax(0)[0] for k in models_used}\n",
        "mean_results = {k: -methods_dict[k][n_init:] for k in models_used}"
      ]
    },
    {
      "cell_type": "markdown",
      "metadata": {
        "originalKey": "c9ef07f3-0f09-4736-8105-36c942073ad2",
        "showInput": false
      },
      "source": [
        "Finally, we plot the results, showing that the HOGP performs well on this task, and converges to a closer parameter value than a batch GP on the composite metric itself."
      ]
    },
    {
      "cell_type": "code",
      "execution_count": 10,
      "metadata": {
        "code_folding": [],
        "collapsed": false,
        "customOutput": null,
        "executionStartTime": 1677179582640,
        "executionStopTime": 1677179583231,
        "hidden_ranges": [],
        "originalKey": "f2585125-5d18-40ed-b736-3e4d4ed83947",
        "output": {
          "id": 1440956203184434,
          "loadingStatus": "loaded"
        },
        "requestMsgId": "df3421e5-3a8a-462a-9249-1a8ccf2e0576"
      },
      "outputs": [
        {
          "data": {
            "text/plain": [
              "Text(0, 0.5, 'Difference from True Parameter')"
            ]
          },
          "execution_count": 10,
          "metadata": {},
          "output_type": "execute_result"
        },
        {
          "data": {
            "image/png": "[encoded data removed]",
            "text/plain": [
              "<Figure size 800x600 with 1 Axes>"
            ]
          },
          "metadata": {},
          "output_type": "display_data"
        }
      ],
      "source": [
        "plt.figure(figsize=(8, 6))\n",
        "labels_dict = {\"rnd\": \"Random\", \"ei\": \"EI\", \"ei_hogp_cf\": \"Composite EI\"}\n",
        "for k in models_used:\n",
        "    plt.plot(\n",
        "        torch.arange(n_batches * batch_size),\n",
        "        mean_results[k],\n",
        "        label=labels_dict[k],\n",
        "    )\n",
        "plt.legend(fontsize=20)\n",
        "plt.semilogy()\n",
        "plt.xlabel(\"Number of Function Queries\")\n",
        "plt.ylabel(\"Difference from True Parameter\")"
      ]
    }
  ],
  "metadata": {
    "custom": {
      "cells": [],
      "metadata": {
        "fileHeader": "",
        "fileUid": "36246e90-ad68-46dd-9118-059d8dd78fb3",
        "isAdHoc": false,
        "kernelspec": {
          "cinder_runtime": true,
          "display_name": "python3",
          "ipyflow_runtime": false,
          "language": "python",
          "name": "python3"
        }
      },
      "nbformat": 4,
      "nbformat_minor": 2
    },
    "indentAmount": 2,
    "kernelspec": {
      "display_name": "python3",
      "name": "python3"
    }
  },
  "nbformat": 4,
  "nbformat_minor": 2
}
